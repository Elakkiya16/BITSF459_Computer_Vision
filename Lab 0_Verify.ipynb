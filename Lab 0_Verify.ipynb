{
 "cells": [
  {
   "cell_type": "code",
   "execution_count": 1,
   "id": "160bf8f0-0695-4d67-aef7-00d52418ea47",
   "metadata": {},
   "outputs": [
    {
     "name": "stdout",
     "output_type": "stream",
     "text": [
      "🔍 Checking environment setup...\n",
      "\n",
      "Python version: 3.10.14 | packaged by conda-forge | (main, Mar 20 2024, 12:51:49) [Clang 16.0.6 ]\n",
      "\n",
      "✅ OpenCV: 4.11.0\n",
      "✅ PyTorch: 2.2.2\n",
      "   MPS available: True\n"
     ]
    },
    {
     "name": "stderr",
     "output_type": "stream",
     "text": [
      "/opt/anaconda3/envs/cvlab/lib/python3.10/site-packages/tqdm/auto.py:21: TqdmWarning: IProgress not found. Please update jupyter and ipywidgets. See https://ipywidgets.readthedocs.io/en/stable/user_install.html\n",
      "  from .autonotebook import tqdm as notebook_tqdm\n"
     ]
    },
    {
     "name": "stdout",
     "output_type": "stream",
     "text": [
      "✅ timm: 1.0.19\n",
      "✅ transformers: 4.55.4\n",
      "✅ albumentations: 2.0.8\n",
      "✅ umap-learn: 0.5.9.post2\n",
      "✅ mediapipe: 0.10.21\n",
      "\n",
      "🎯 If all required packages show ✅, your environment is ready!\n"
     ]
    }
   ],
   "source": [
    "\"\"\"\n",
    "Lab 0 — Environment Setup Verification Script\n",
    "---------------------------------------------\n",
    "\n",
    "Run this script inside your `cvlab` environment to verify that all\n",
    "required packages are installed and working correctly.\n",
    "\"\"\"\n",
    "\n",
    "import sys\n",
    "\n",
    "print(\"🔍 Checking environment setup...\\n\")\n",
    "print(f\"Python version: {sys.version}\\n\")\n",
    "\n",
    "# Core packages\n",
    "try:\n",
    "    import cv2\n",
    "    print(f\"✅ OpenCV: {cv2.__version__}\")\n",
    "except Exception as e:\n",
    "    print(f\"❌ OpenCV not working: {e}\")\n",
    "\n",
    "try:\n",
    "    import torch\n",
    "    print(f\"✅ PyTorch: {torch.__version__}\")\n",
    "    if hasattr(torch.backends, \"mps\"):\n",
    "        print(\"   MPS available:\", torch.backends.mps.is_available())\n",
    "    else:\n",
    "        print(\"   MPS available: N/A\")\n",
    "except Exception as e:\n",
    "    print(f\"❌ PyTorch not working: {e}\")\n",
    "\n",
    "# Additional packages\n",
    "for pkg_name, import_name in [\n",
    "    (\"timm\", \"timm\"),\n",
    "    (\"transformers\", \"transformers\"),\n",
    "    (\"albumentations\", \"albumentations\"),\n",
    "    (\"umap-learn\", \"umap\"),\n",
    "    (\"mediapipe\", \"mediapipe\"),\n",
    "]:\n",
    "    try:\n",
    "        module = __import__(import_name)\n",
    "        version = getattr(module, \"__version__\", \"installed (version unknown)\")\n",
    "        print(f\"✅ {pkg_name}: {version}\")\n",
    "    except Exception as e:\n",
    "        print(f\"❌ {pkg_name} not working: {e}\")\n",
    "\n",
    "print(\"\\n🎯 If all required packages show ✅, your environment is ready!\")\n"
   ]
  },
  {
   "cell_type": "code",
   "execution_count": 2,
   "id": "bc06db7a-345c-4861-96c4-50a055d16315",
   "metadata": {},
   "outputs": [
    {
     "name": "stdout",
     "output_type": "stream",
     "text": [
      "Lab 1 Part 1 complete!\n"
     ]
    }
   ],
   "source": []
  },
  {
   "cell_type": "code",
   "execution_count": null,
   "id": "60a91eac-c8a3-480d-b4ee-b0fa7665ab55",
   "metadata": {},
   "outputs": [],
   "source": []
  }
 ],
 "metadata": {
  "kernelspec": {
   "display_name": "Python (cvlab)",
   "language": "python",
   "name": "cvlab"
  },
  "language_info": {
   "codemirror_mode": {
    "name": "ipython",
    "version": 3
   },
   "file_extension": ".py",
   "mimetype": "text/x-python",
   "name": "python",
   "nbconvert_exporter": "python",
   "pygments_lexer": "ipython3",
   "version": "3.10.14"
  }
 },
 "nbformat": 4,
 "nbformat_minor": 5
}
